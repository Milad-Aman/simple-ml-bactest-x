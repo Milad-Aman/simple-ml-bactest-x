{
 "cells": [
  {
   "cell_type": "code",
   "execution_count": 1,
   "id": "913a388a",
   "metadata": {},
   "outputs": [],
   "source": [
    "from pathlib import Path\n",
    "import sys\n",
    "\n",
    "repo_root = Path.cwd().parent  # parent of ml_backtest/\n",
    "if str(repo_root) not in sys.path:\n",
    "    sys.path.insert(0, str(repo_root))"
   ]
  },
  {
   "cell_type": "code",
   "execution_count": null,
   "id": "ce468453",
   "metadata": {},
   "outputs": [],
   "source": [
    "from __future__ import annotations\n",
    "import yaml\n",
    "import numpy as np\n",
    "from pathlib import Path\n",
    "from ml_backtest.a_data_loader import load_data\n",
    "from ml_backtest.g_walkforward import walkforward_run\n",
    "from ml_backtest.c_metrics import summarise\n",
    "from ml_backtest.h_mc_permutation import mc_permutation_pvalue\n",
    "from ml_backtest.i_runs_test import runs_test\n",
    "from ml_backtest.j_outputs import show_backtest_report, plot_equity_and_dd, plot_fold_metrics"
   ]
  },
  {
   "cell_type": "code",
   "execution_count": 3,
   "id": "bb19d09a",
   "metadata": {},
   "outputs": [],
   "source": [
    "def load_cfg(config=\"configs/ml_lg.yaml\"):\n",
    "    if isinstance(config, (str, Path)):\n",
    "        p = Path(config)\n",
    "        with p.open(\"r\") as f:\n",
    "            cfg = yaml.safe_load(f)\n",
    "        cfg[\"_config_path\"] = str(p.resolve())\n",
    "        return cfg\n",
    "    elif isinstance(config, dict):\n",
    "        return config\n",
    "    else:\n",
    "        raise TypeError(\"config must be a path or dict\")"
   ]
  },
  {
   "cell_type": "code",
   "execution_count": 4,
   "id": "befbb441",
   "metadata": {},
   "outputs": [
    {
     "data": {
      "text/markdown": [
       "# Backtest Summary — ml_lg"
      ],
      "text/plain": [
       "<IPython.core.display.Markdown object>"
      ]
     },
     "metadata": {},
     "output_type": "display_data"
    },
    {
     "data": {
      "text/markdown": [
       "## Metrics"
      ],
      "text/plain": [
       "<IPython.core.display.Markdown object>"
      ]
     },
     "metadata": {},
     "output_type": "display_data"
    },
    {
     "data": {
      "text/html": [
       "<style type=\"text/css\">\n",
       "</style>\n",
       "<table id=\"T_3c132\">\n",
       "  <thead>\n",
       "    <tr>\n",
       "      <th id=\"T_3c132_level0_col0\" class=\"col_heading level0 col0\" >Metric</th>\n",
       "      <th id=\"T_3c132_level0_col1\" class=\"col_heading level0 col1\" >Value</th>\n",
       "      <th id=\"T_3c132_level0_col2\" class=\"col_heading level0 col2\" >Target</th>\n",
       "    </tr>\n",
       "  </thead>\n",
       "  <tbody>\n",
       "    <tr>\n",
       "      <td id=\"T_3c132_row0_col0\" class=\"data row0 col0\" >Ann. return (arith)</td>\n",
       "      <td id=\"T_3c132_row0_col1\" class=\"data row0 col1\" >-1.00%</td>\n",
       "      <td id=\"T_3c132_row0_col2\" class=\"data row0 col2\" >≥ 8%</td>\n",
       "    </tr>\n",
       "    <tr>\n",
       "      <td id=\"T_3c132_row1_col0\" class=\"data row1 col0\" >Sharpe</td>\n",
       "      <td id=\"T_3c132_row1_col1\" class=\"data row1 col1\" >-0.08</td>\n",
       "      <td id=\"T_3c132_row1_col2\" class=\"data row1 col2\" >≥ 0.90</td>\n",
       "    </tr>\n",
       "    <tr>\n",
       "      <td id=\"T_3c132_row2_col0\" class=\"data row2 col0\" >Sortino</td>\n",
       "      <td id=\"T_3c132_row2_col1\" class=\"data row2 col1\" >-0.06</td>\n",
       "      <td id=\"T_3c132_row2_col2\" class=\"data row2 col2\" >≥ 1.20</td>\n",
       "    </tr>\n",
       "    <tr>\n",
       "      <td id=\"T_3c132_row3_col0\" class=\"data row3 col0\" >Max drawdown</td>\n",
       "      <td id=\"T_3c132_row3_col1\" class=\"data row3 col1\" >-51.6%</td>\n",
       "      <td id=\"T_3c132_row3_col2\" class=\"data row3 col2\" >≥ −25%</td>\n",
       "    </tr>\n",
       "    <tr>\n",
       "      <td id=\"T_3c132_row4_col0\" class=\"data row4 col0\" >Calmar</td>\n",
       "      <td id=\"T_3c132_row4_col1\" class=\"data row4 col1\" >-0.02</td>\n",
       "      <td id=\"T_3c132_row4_col2\" class=\"data row4 col2\" >≥ 1.00</td>\n",
       "    </tr>\n",
       "    <tr>\n",
       "      <td id=\"T_3c132_row5_col0\" class=\"data row5 col0\" >Profit factor</td>\n",
       "      <td id=\"T_3c132_row5_col1\" class=\"data row5 col1\" >0.97</td>\n",
       "      <td id=\"T_3c132_row5_col2\" class=\"data row5 col2\" >≥ 1.30</td>\n",
       "    </tr>\n",
       "    <tr>\n",
       "      <td id=\"T_3c132_row6_col0\" class=\"data row6 col0\" >Hit rate</td>\n",
       "      <td id=\"T_3c132_row6_col1\" class=\"data row6 col1\" >19.9%</td>\n",
       "      <td id=\"T_3c132_row6_col2\" class=\"data row6 col2\" >≥ 53%</td>\n",
       "    </tr>\n",
       "    <tr>\n",
       "      <td id=\"T_3c132_row7_col0\" class=\"data row7 col0\" >Exposure</td>\n",
       "      <td id=\"T_3c132_row7_col1\" class=\"data row7 col1\" >39.5%</td>\n",
       "      <td id=\"T_3c132_row7_col2\" class=\"data row7 col2\" >20%–60%</td>\n",
       "    </tr>\n",
       "    <tr>\n",
       "      <td id=\"T_3c132_row8_col0\" class=\"data row8 col0\" >Turnover</td>\n",
       "      <td id=\"T_3c132_row8_col1\" class=\"data row8 col1\" >50.7</td>\n",
       "      <td id=\"T_3c132_row8_col2\" class=\"data row8 col2\" >≤ 100</td>\n",
       "    </tr>\n",
       "    <tr>\n",
       "      <td id=\"T_3c132_row9_col0\" class=\"data row9 col0\" >VaR 5%</td>\n",
       "      <td id=\"T_3c132_row9_col1\" class=\"data row9 col1\" >-0.92%</td>\n",
       "      <td id=\"T_3c132_row9_col2\" class=\"data row9 col2\" >≥ −3%</td>\n",
       "    </tr>\n",
       "    <tr>\n",
       "      <td id=\"T_3c132_row10_col0\" class=\"data row10 col0\" >ES 5%</td>\n",
       "      <td id=\"T_3c132_row10_col1\" class=\"data row10 col1\" >-2.00%</td>\n",
       "      <td id=\"T_3c132_row10_col2\" class=\"data row10 col2\" >≥ −5%</td>\n",
       "    </tr>\n",
       "  </tbody>\n",
       "</table>\n"
      ],
      "text/plain": [
       "<pandas.io.formats.style.Styler at 0x14a56b620>"
      ]
     },
     "metadata": {},
     "output_type": "display_data"
    },
    {
     "data": {
      "text/markdown": [
       "## Statistical Tests"
      ],
      "text/plain": [
       "<IPython.core.display.Markdown object>"
      ]
     },
     "metadata": {},
     "output_type": "display_data"
    },
    {
     "data": {
      "text/html": [
       "<style type=\"text/css\">\n",
       "</style>\n",
       "<table id=\"T_63436\">\n",
       "  <thead>\n",
       "    <tr>\n",
       "      <th id=\"T_63436_level0_col0\" class=\"col_heading level0 col0\" >Test</th>\n",
       "      <th id=\"T_63436_level0_col1\" class=\"col_heading level0 col1\" >Value</th>\n",
       "      <th id=\"T_63436_level0_col2\" class=\"col_heading level0 col2\" >Target</th>\n",
       "    </tr>\n",
       "  </thead>\n",
       "  <tbody>\n",
       "    <tr>\n",
       "      <td id=\"T_63436_row0_col0\" class=\"data row0 col0\" >MC permutation p-value</td>\n",
       "      <td id=\"T_63436_row0_col1\" class=\"data row0 col1\" >0.6803</td>\n",
       "      <td id=\"T_63436_row0_col2\" class=\"data row0 col2\" >≤ 0.01</td>\n",
       "    </tr>\n",
       "    <tr>\n",
       "      <td id=\"T_63436_row1_col0\" class=\"data row1 col0\" >Runs test z</td>\n",
       "      <td id=\"T_63436_row1_col1\" class=\"data row1 col1\" >-14.32</td>\n",
       "      <td id=\"T_63436_row1_col2\" class=\"data row1 col2\" >∣z∣ ≤ 2.0</td>\n",
       "    </tr>\n",
       "    <tr>\n",
       "      <td id=\"T_63436_row2_col0\" class=\"data row2 col0\" >Runs test p</td>\n",
       "      <td id=\"T_63436_row2_col1\" class=\"data row2 col1\" >0.0000</td>\n",
       "      <td id=\"T_63436_row2_col2\" class=\"data row2 col2\" >≥ 0.05</td>\n",
       "    </tr>\n",
       "  </tbody>\n",
       "</table>\n"
      ],
      "text/plain": [
       "<pandas.io.formats.style.Styler at 0x14a54e5d0>"
      ]
     },
     "metadata": {},
     "output_type": "display_data"
    },
    {
     "data": {
      "text/markdown": [
       "## Config"
      ],
      "text/plain": [
       "<IPython.core.display.Markdown object>"
      ]
     },
     "metadata": {},
     "output_type": "display_data"
    },
    {
     "data": {
      "text/html": [
       "<details style=\"margin:8px 0;\"><summary style=\"cursor:pointer;\">Show YAML</summary>\n",
       "<pre style=\"overflow:auto; background:#0f172a; color:#e2e8f0; padding:12px; border-radius:8px;\">seed: 5\n",
       "data:\n",
       "  source: yahoo\n",
       "  ticker: BTC-USD\n",
       "  start: '2018-01-01'\n",
       "  end: '2025-08-31'\n",
       "  interval: 1d\n",
       "strategy:\n",
       "  name: ml_classifier\n",
       "  params:\n",
       "    prob_threshold: 0.55\n",
       "    features:\n",
       "      r_lags:\n",
       "      - 1\n",
       "      - 2\n",
       "      - 3\n",
       "      - 5\n",
       "      - 10\n",
       "      vol_lookback: 60\n",
       "      rsi_period: 14\n",
       "      sma_fast: 20\n",
       "      sma_slow: 100\n",
       "      donchian_lb: 55\n",
       "    calibration: isotonic\n",
       "    policy:\n",
       "      constraints:\n",
       "        ann_return_log_min: 0.08\n",
       "        exposure_range:\n",
       "        - 0.2\n",
       "        - 0.6\n",
       "        turnover_max: 100.0\n",
       "      thr_grid:\n",
       "      - 0.5\n",
       "      - 0.7\n",
       "      - 0.01\n",
       "      min_hold_grid:\n",
       "      - 1\n",
       "      - 3\n",
       "      - 5\n",
       "execution:\n",
       "  fees_bps: 10\n",
       "  slippage_bps: 5\n",
       "  target_vol_annual: 0.15\n",
       "  vol_lookback: 30\n",
       "  max_leverage: 2.0\n",
       "walkforward:\n",
       "  min_train: 730\n",
       "  test_size: 120\n",
       "output:\n",
       "  tag: ml_lg\n",
       "_config_path: /Users/milad/Downloads/simple-ml-backtest/configs/ml_lg.yaml\n",
       "</pre>\n",
       "</details>"
      ],
      "text/plain": [
       "<IPython.core.display.HTML object>"
      ]
     },
     "metadata": {},
     "output_type": "display_data"
    }
   ],
   "source": [
    "\n",
    "\"\"\"\n",
    "Execute the full walkforward backtest workflow.\n",
    "\n",
    "- Parses CLI args and config\n",
    "- Seeds RNG (optional override via `--seed`)\n",
    "- Loads data and runs walkforward backtest\n",
    "- Computes metrics and statistical tests\n",
    "- Writes artifacts under `reports/<tag>_YYYYMMDD_HHMMSS/` - the date of backtest run\n",
    "- Prints a JSON summary to stdout\n",
    "\"\"\"\n",
    "\n",
    "cfg = load_cfg(\"configs/ml_lg.yaml\")\n",
    "\n",
    "seed = cfg.get(\"seed\", 5)\n",
    "rng = np.random.default_rng(seed)\n",
    "\n",
    "df = load_data(cfg)\n",
    "\n",
    "folds_df, oos_ret, oos_pos, oos_eq = walkforward_run(cfg, df, rng)\n",
    "summary = summarise(oos_ret, oos_pos)\n",
    "\n",
    "pval = mc_permutation_pvalue(oos_ret, n_iter=1000, block=5, seed=seed)\n",
    "z_run, p_run = runs_test(oos_ret)\n",
    "\n",
    "tag = cfg[\"output\"].get(\"tag\",\"run\")\n",
    "\n",
    "summary_out = {\n",
    "    \"config\": cfg,\n",
    "    \"summary\": summary,\n",
    "    \"mc_permutation_pvalue\": pval,\n",
    "    \"runs_test_z\": z_run,\n",
    "    \"runs_test_p\": p_run,\n",
    "}\n",
    "\n",
    "show_backtest_report(summary_out)\n",
    "\n",
    "# print(json.dumps(summary_out, indent=2))\n"
   ]
  },
  {
   "cell_type": "code",
   "execution_count": 5,
   "id": "28836779",
   "metadata": {},
   "outputs": [
    {
     "data": {
      "image/png": "[encoded data removed]",
      "text/plain": [
       "<Figure size 640x480 with 1 Axes>"
      ]
     },
     "metadata": {},
     "output_type": "display_data"
    }
   ],
   "source": [
    "plot_equity_and_dd(oos_eq, f\"Equity (OOS) - {tag}\")"
   ]
  },
  {
   "cell_type": "code",
   "execution_count": 6,
   "id": "3877fd58",
   "metadata": {},
   "outputs": [
    {
     "data": {
      "image/png": "[encoded data removed]",
      "text/plain": [
       "<Figure size 640x480 with 1 Axes>"
      ]
     },
     "metadata": {},
     "output_type": "display_data"
    }
   ],
   "source": [
    "plot_fold_metrics(folds_df, f\"Fold Sharpe (OOS) - {tag}\")"
   ]
  }
 ],
 "metadata": {
  "kernelspec": {
   "display_name": ".venv",
   "language": "python",
   "name": "python3"
  },
  "language_info": {
   "codemirror_mode": {
    "name": "ipython",
    "version": 3
   },
   "file_extension": ".py",
   "mimetype": "text/x-python",
   "name": "python",
   "nbconvert_exporter": "python",
   "pygments_lexer": "ipython3",
   "version": "3.13.5"
  }
 },
 "nbformat": 4,
 "nbformat_minor": 5
}
